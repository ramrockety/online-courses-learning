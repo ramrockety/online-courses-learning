{
 "cells": [
  {
   "cell_type": "markdown",
   "metadata": {},
   "source": [
    "#### 1. Web page load errors\n",
    "\n",
    "#### When a web page doesn't load properly there are many possible causes. Some are to do with your device, while others are due to problems with the website. By looking at the symptoms you can often tell what the problem is.\n",
    "\n",
    "#### The next few questions will go through some examples.\n",
    "\n",
    "#### Firstly, which of the following is likely to happen if the problem is with the network settings on your computer?\n",
    "\n",
    "#### Click all that would be true, but before you submit, also think about which would be the strongest sign that the problem is with your computer."
   ]
  },
  {
   "cell_type": "markdown",
   "metadata": {},
   "source": [
    "##### Ans: \n",
    "- The page loads correctly on your phone when it is connected to the same Wi-Fi network as your computer\n",
    "- The page loads correctly on your phone when it is connected via a cellular (phone) network rather than WiFI"
   ]
  },
  {
   "cell_type": "markdown",
   "metadata": {},
   "source": [
    "#### 2. Which of the following is likely to happen if the problem is with your Wi-Fi network?\n",
    "\n",
    "#### Before you submit, also think about which would be the strongest sign that the problem is with your Wi-Fi network."
   ]
  },
  {
   "cell_type": "markdown",
   "metadata": {},
   "source": [
    "##### Ans: The page loads correctly on your phone when it is connected via a cellular (phone) network rather than WiFI"
   ]
  },
  {
   "cell_type": "markdown",
   "metadata": {},
   "source": [
    "#### 3. Which of the following is likely to happen if you are not logged in to the website?\n",
    "\n",
    "#### Click all that would be true, but before you submit, also think about which would be the strongestsign that the problem is you not being logged in."
   ]
  },
  {
   "cell_type": "markdown",
   "metadata": {},
   "source": [
    "##### Ans: \n",
    "- The web page loads a page from the website, but not the expected one\n",
    "- Another website loads fine"
   ]
  },
  {
   "cell_type": "markdown",
   "metadata": {},
   "source": [
    "#### 4. Which of these is likely to happen if the website is suffering a successful a denial of service attack?\n",
    "\n",
    "#### Before you submit, also think about which would be the strongest sign that the problem is with the website."
   ]
  },
  {
   "cell_type": "markdown",
   "metadata": {},
   "source": [
    "##### Ans: Another website loads fine"
   ]
  },
  {
   "cell_type": "markdown",
   "metadata": {},
   "source": [
    "#### 5. Let's return to a question you answered at the start of this week, to see if your answer has changed.\n",
    "\n",
    "#### If you have a problem loading a website, what steps would you go through to figure out what the problem is?"
   ]
  },
  {
   "cell_type": "markdown",
   "metadata": {},
   "source": [
    "##### Ans: \n",
    "1. Check internet connection\n",
    "2. Use another device to check the site\n",
    "3. Use another and  connect the same Wi-Fi network to check the connection"
   ]
  }
 ],
 "metadata": {
  "kernelspec": {
   "display_name": "Python 3",
   "language": "python",
   "name": "python3"
  },
  "language_info": {
   "codemirror_mode": {
    "name": "ipython",
    "version": 3
   },
   "file_extension": ".py",
   "mimetype": "text/x-python",
   "name": "python",
   "nbconvert_exporter": "python",
   "pygments_lexer": "ipython3",
   "version": "3.6.4"
  }
 },
 "nbformat": 4,
 "nbformat_minor": 2
}
